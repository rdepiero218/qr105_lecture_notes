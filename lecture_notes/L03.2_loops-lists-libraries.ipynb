{
  "cells": [
    {
      "cell_type": "markdown",
      "id": "588a8341-9a18-41bf-877b-0b4592a812f8",
      "metadata": {
        "tags": [],
        "id": "588a8341-9a18-41bf-877b-0b4592a812f8"
      },
      "source": [
        "# Lecture 3.2: Loops, Lists & Libraries\n",
        "\n",
        "This notebook will cover how to use loops in Python. Loops allow you to repeat blocks of code. Before we cover these, we'll first cover some of the basic operations for Python lists, as they will be used frequently in the examples. At the end, we will briefly discuss how libraries work in Python so you can use them in the coding activity for this week."
      ]
    },
    {
      "cell_type": "markdown",
      "id": "1aee55e5-631b-4ae4-ac0e-7933f4ad0cbd",
      "metadata": {
        "id": "1aee55e5-631b-4ae4-ac0e-7933f4ad0cbd"
      },
      "source": [
        "## Python Lists\n",
        "\n",
        "Recall the basic form of a list"
      ]
    },
    {
      "cell_type": "code",
      "execution_count": null,
      "id": "cd3a943e-61a2-4953-9101-f981482896c2",
      "metadata": {
        "id": "cd3a943e-61a2-4953-9101-f981482896c2"
      },
      "outputs": [],
      "source": [
        "names = ['Liam', 'Ava', 'Ethan', 'Mia', 'Oliver', 'Sophia', 'Noah']"
      ]
    },
    {
      "cell_type": "markdown",
      "id": "52f240ed-d43a-49fc-9955-7ecec8341ed7",
      "metadata": {
        "id": "52f240ed-d43a-49fc-9955-7ecec8341ed7"
      },
      "source": [
        "We can call a particular element in the list by using it's _index_. Python starts indexing at 0. (some languages or computer software start at 1).\n",
        "\n",
        "The elements in our `names` list have the following indices\n",
        "\n",
        "```\n",
        "index     0       1       2       3       4         5         6\n",
        "names  ['Liam', 'Ava', 'Ethan', 'Mia', 'Oliver', 'Sophia', 'Noah']\n",
        "```"
      ]
    },
    {
      "cell_type": "markdown",
      "id": "f2cf4afd-6397-4061-9ea9-389bc210fbe5",
      "metadata": {
        "id": "f2cf4afd-6397-4061-9ea9-389bc210fbe5"
      },
      "source": [
        "### Accessing items in a list\n",
        "\n",
        "If we want to call the third element in the list `names` we use the syntax"
      ]
    },
    {
      "cell_type": "code",
      "execution_count": null,
      "id": "e407e9f6-d1f6-4e1e-8de1-b338c8b7c479",
      "metadata": {
        "id": "e407e9f6-d1f6-4e1e-8de1-b338c8b7c479"
      },
      "outputs": [],
      "source": [
        "names[2]"
      ]
    },
    {
      "cell_type": "markdown",
      "id": "95f532f0-d069-428d-9450-912d11d8b4f0",
      "metadata": {
        "id": "95f532f0-d069-428d-9450-912d11d8b4f0"
      },
      "source": [
        "We can get a 'slice' of the list for a range of indices"
      ]
    },
    {
      "cell_type": "code",
      "execution_count": null,
      "id": "a1d806ce-9319-419b-b3bd-21acaacaf2b3",
      "metadata": {
        "id": "a1d806ce-9319-419b-b3bd-21acaacaf2b3"
      },
      "outputs": [],
      "source": [
        "names[2:5]"
      ]
    },
    {
      "cell_type": "markdown",
      "id": "8f01fcad-1ca2-40e7-a024-9930ea660a2f",
      "metadata": {
        "id": "8f01fcad-1ca2-40e7-a024-9930ea660a2f"
      },
      "source": [
        "We get the length or number of elements in a list by using `len`"
      ]
    },
    {
      "cell_type": "code",
      "execution_count": null,
      "id": "2d6dd300-8b28-4238-8e46-1d96e35f40db",
      "metadata": {
        "id": "2d6dd300-8b28-4238-8e46-1d96e35f40db"
      },
      "outputs": [],
      "source": [
        "len(names)"
      ]
    },
    {
      "cell_type": "markdown",
      "id": "423e74bc-c468-4170-b1ce-2c03e8f8607b",
      "metadata": {
        "id": "423e74bc-c468-4170-b1ce-2c03e8f8607b"
      },
      "source": [
        "#### Try it yourself\n",
        "\n",
        "Generate the requested output from the list above."
      ]
    },
    {
      "cell_type": "code",
      "execution_count": null,
      "id": "181741fd-4820-4d29-bf02-9baca96fd090",
      "metadata": {
        "id": "181741fd-4820-4d29-bf02-9baca96fd090"
      },
      "outputs": [],
      "source": [
        "## Output the 4th element in the list\n"
      ]
    },
    {
      "cell_type": "code",
      "execution_count": null,
      "id": "9a8ba08f-d178-40ee-9675-ccd73c84653c",
      "metadata": {
        "id": "9a8ba08f-d178-40ee-9675-ccd73c84653c"
      },
      "outputs": [],
      "source": [
        "## Output the last 3 names\n",
        "\n"
      ]
    },
    {
      "cell_type": "markdown",
      "id": "242dfb82-49c6-4ff2-8da3-9a877f1c526c",
      "metadata": {
        "id": "242dfb82-49c6-4ff2-8da3-9a877f1c526c"
      },
      "source": [
        "### Adding, removing and sorting items in a list\n",
        "\n",
        "The following functions all use the 'dot operator' (ie. \".\").\n",
        "\n",
        "The dot operator (.) in Python is used to access attributes or methods of an object. It essentially allows you to interact with properties or functions defined within objects, modules, or classes.\n",
        "\n",
        "We'll see this in action in the next few functions. In the cases below, the function will alter the original list. Note that not all functions work in this way. Sometimes you need to tell the function (it's usually an option or paremeter you declare in the function itself) to make the change permenant. This will make more sense later."
      ]
    },
    {
      "cell_type": "markdown",
      "id": "b827403a-9c80-4953-a2fc-310938239faa",
      "metadata": {
        "id": "b827403a-9c80-4953-a2fc-310938239faa"
      },
      "source": [
        "We can add elements to the end of a list using `append`"
      ]
    },
    {
      "cell_type": "code",
      "execution_count": null,
      "id": "94edb3bb-cf91-4b5e-b685-2518edae053d",
      "metadata": {
        "id": "94edb3bb-cf91-4b5e-b685-2518edae053d"
      },
      "outputs": [],
      "source": [
        "names.append('Reggie')\n",
        "names"
      ]
    },
    {
      "cell_type": "markdown",
      "id": "dab2b0a3-8c1a-4d8e-9cfd-86e5fabb4e96",
      "metadata": {
        "id": "dab2b0a3-8c1a-4d8e-9cfd-86e5fabb4e96"
      },
      "source": [
        "In words, what's happening here is \"from the list called `names` use the function append to add the Name 'Reggie'\""
      ]
    },
    {
      "cell_type": "markdown",
      "id": "fca3c4e8-6809-4adc-8c06-e51a759c34c2",
      "metadata": {
        "id": "fca3c4e8-6809-4adc-8c06-e51a759c34c2"
      },
      "source": [
        "We can remove an element from the end of a list using `pop`"
      ]
    },
    {
      "cell_type": "code",
      "execution_count": null,
      "id": "7eeaa414-3be3-48c0-87aa-dc4426e37b2b",
      "metadata": {
        "id": "7eeaa414-3be3-48c0-87aa-dc4426e37b2b"
      },
      "outputs": [],
      "source": [
        "names.pop()\n",
        "names"
      ]
    },
    {
      "cell_type": "markdown",
      "id": "4de4dab5-edc1-4195-9888-3ce80978cf5a",
      "metadata": {
        "id": "4de4dab5-edc1-4195-9888-3ce80978cf5a"
      },
      "source": [
        "We can also sort a list of values using sort. Note that you can only sort a list if it has one type of element (either strings or numerical values)"
      ]
    },
    {
      "cell_type": "code",
      "execution_count": null,
      "id": "65eb599c-07a3-45a9-9f02-0204df4f3f3a",
      "metadata": {
        "id": "65eb599c-07a3-45a9-9f02-0204df4f3f3a"
      },
      "outputs": [],
      "source": [
        "names.sort()\n",
        "names"
      ]
    },
    {
      "cell_type": "markdown",
      "id": "58ca162e-ba85-4721-880b-10b09ac2f814",
      "metadata": {
        "id": "58ca162e-ba85-4721-880b-10b09ac2f814"
      },
      "source": [
        "There are many other list manipulation options available, these are just some of the basics. More information is just a google search away!"
      ]
    },
    {
      "cell_type": "markdown",
      "id": "7d405c34-6bd7-4367-a137-8c5f28537f31",
      "metadata": {
        "id": "7d405c34-6bd7-4367-a137-8c5f28537f31"
      },
      "source": [
        "#### Try it yourself\n",
        "\n",
        "Use the list defined below to generate the indicated output."
      ]
    },
    {
      "cell_type": "code",
      "execution_count": null,
      "id": "52de094b-0505-479b-a96e-d7f5f531259e",
      "metadata": {
        "id": "52de094b-0505-479b-a96e-d7f5f531259e"
      },
      "outputs": [],
      "source": [
        "classroom_objects = ['desk', 'chair', 'whiteboard', 'marker', 'notebook']\n",
        "\n",
        "## add the item 'pencil' to the list classroom_objects\n",
        "\n"
      ]
    },
    {
      "cell_type": "code",
      "execution_count": null,
      "id": "37206452-7ae5-4ca8-a8d7-f9e13108fcad",
      "metadata": {
        "id": "37206452-7ae5-4ca8-a8d7-f9e13108fcad"
      },
      "outputs": [],
      "source": [
        "## sort the list of classroom_objects\n",
        "\n"
      ]
    },
    {
      "cell_type": "markdown",
      "id": "26b6cdfc-e3c2-44b5-a9d9-c85d4f84b20d",
      "metadata": {
        "id": "26b6cdfc-e3c2-44b5-a9d9-c85d4f84b20d"
      },
      "source": [
        "## For Loops\n",
        "\n",
        "For loops repeat a statement or collection of statements for every element of an iterable sequence (`list`, `range`, `dict`, `file`, `str`). The code block inside the loop is executed once for each element. For loops have the following basic structure.\n",
        "\n",
        "```\n",
        "for variable in sequence:\n",
        "    # Code block to run for each item\n",
        "\n",
        "```\n",
        "\n",
        "* `variable`: A temporary variable that takes on each value from the sequence, one at a time. It only exists in the loop.\n",
        "* `sequence`: The collection you're looping through (list, string, range, etc.).\n",
        "* Indentation: Just as we saw with condtional statements, the code block inside the loop must be indented.\n"
      ]
    },
    {
      "cell_type": "markdown",
      "id": "940f894e-857e-48c5-91b2-90b6334c247a",
      "metadata": {
        "id": "940f894e-857e-48c5-91b2-90b6334c247a"
      },
      "source": [
        "### Looping through a list"
      ]
    },
    {
      "cell_type": "code",
      "execution_count": null,
      "id": "4aa23273-a584-42cb-97e2-e1528ef26801",
      "metadata": {
        "tags": [],
        "id": "4aa23273-a584-42cb-97e2-e1528ef26801"
      },
      "outputs": [],
      "source": [
        "names = ['Nicole', 'Shae', 'Shannon', 'Leasly', 'Mya', 'Emma', 'Kederson', 'Lily', 'Robert', 'Cecelia']\n",
        "\n",
        "for name in names:\n",
        "    print(name)"
      ]
    },
    {
      "cell_type": "markdown",
      "id": "89110483-b06a-4f40-afaa-cb23bbcde1f3",
      "metadata": {
        "id": "89110483-b06a-4f40-afaa-cb23bbcde1f3"
      },
      "source": [
        "#### Try it yourself\n",
        "\n",
        "Use the list `classroom_objects` defined above to generate the indicated output using a for loop."
      ]
    },
    {
      "cell_type": "code",
      "execution_count": null,
      "id": "dd045b7e-825f-4c97-b101-0f43a847635a",
      "metadata": {
        "id": "dd045b7e-825f-4c97-b101-0f43a847635a"
      },
      "outputs": [],
      "source": [
        "## print each item in the list of classroom_objects\n",
        "\n"
      ]
    },
    {
      "cell_type": "markdown",
      "id": "05188ace-d754-433f-bff3-35fd4813775e",
      "metadata": {
        "id": "05188ace-d754-433f-bff3-35fd4813775e"
      },
      "source": [
        "### Looping through a string"
      ]
    },
    {
      "cell_type": "code",
      "execution_count": null,
      "id": "e4cfeadf-2dc9-424d-a584-a6b62bbf89c4",
      "metadata": {
        "id": "e4cfeadf-2dc9-424d-a584-a6b62bbf89c4"
      },
      "outputs": [],
      "source": [
        "name_str = 'Reggie'\n",
        "\n",
        "for character in name_str:\n",
        "    print(character)"
      ]
    },
    {
      "cell_type": "markdown",
      "id": "d2d96e21-b55c-4502-bbce-6029f62cb47d",
      "metadata": {
        "tags": [],
        "id": "d2d96e21-b55c-4502-bbce-6029f62cb47d"
      },
      "source": [
        "### Using the Range Function\n",
        "\n",
        "If we don't have an existing sequence we want to iterate over, we can create one with the `range` function. The parameters (or inputs) for the function are\n",
        "```\n",
        "range(start, stop, step)\n",
        "\n",
        "```\n",
        "where\n",
        "* `start` is the value you want to stop the iteration\n",
        "* `stop` is one more than where you want to stop\n",
        "* `step` is how much you want it to step between values\n",
        "\n",
        "The only required parameter is your `stop` value. The different use cases are listed below.\n",
        "\n",
        "* `range(n)`:   $[0, 1, 2, 3, \\dots, n-1]$\n",
        "* `range(p, q)`:     $[p, p+1, p+2, \\dots, q-1]$\n",
        "* `range(p, q, r)`:  $[p, p+r, p+(2*r), \\dots, q-1]$\n",
        "\n",
        "So a loop uisng the `range` function will have the following general structure\n",
        "```\n",
        "for variable in range(n):\n",
        "    # Do some stuff\n",
        "```\n",
        "To make our code simpler and a little easier to read, it is common practice to use a single letter for your iteration variable, since it is a temporary value and merely keeps track of which loop you're on.\n",
        "\n",
        "In mathematics, common letters used for naming iterations are $i$, $j$, $k$, $m$, $n$, etc. You can really use anything you want to name it as long as you follow the usual variable naming conventions. It may be helpful to name it something more complete or it may make your code harder to read. It's up to you to determine what works here.\n"
      ]
    },
    {
      "cell_type": "code",
      "execution_count": null,
      "id": "245ba93f-c2df-4210-88ad-ef4ba44ca1c3",
      "metadata": {
        "id": "245ba93f-c2df-4210-88ad-ef4ba44ca1c3"
      },
      "outputs": [],
      "source": [
        "for i in range(5):\n",
        "    print(i)"
      ]
    },
    {
      "cell_type": "markdown",
      "id": "0197c6b7-2d39-4a36-9502-536ec231bcbb",
      "metadata": {
        "id": "0197c6b7-2d39-4a36-9502-536ec231bcbb"
      },
      "source": [
        "We could also rewrite our first example iterating over the list of names using the range function instead. The main difference here is that the iteration variable must be used as the index of each element in the list."
      ]
    },
    {
      "cell_type": "code",
      "execution_count": null,
      "id": "36f22029-b9eb-4023-a387-64a5a0dda1fd",
      "metadata": {
        "id": "36f22029-b9eb-4023-a387-64a5a0dda1fd"
      },
      "outputs": [],
      "source": [
        "names = ['Nicole', 'Shae', 'Shannon', 'Leasly', 'Mya', 'Emma', 'Kederson', 'Lily', 'Robert', 'Cecelia']\n",
        "\n",
        "for i in range(len(names)):\n",
        "    print(names[i])"
      ]
    },
    {
      "cell_type": "code",
      "execution_count": null,
      "id": "c6cbde00-9064-46be-9f01-7c6b333c9748",
      "metadata": {
        "id": "c6cbde00-9064-46be-9f01-7c6b333c9748"
      },
      "outputs": [],
      "source": [
        "for i in range(1, 5):\n",
        "    print(i)"
      ]
    },
    {
      "cell_type": "code",
      "execution_count": null,
      "id": "d207c6ac-e305-4c12-ae08-c710b469f30b",
      "metadata": {
        "id": "d207c6ac-e305-4c12-ae08-c710b469f30b"
      },
      "outputs": [],
      "source": [
        "for i in range(0, 5, 2):\n",
        "    print(i)"
      ]
    },
    {
      "cell_type": "markdown",
      "id": "83e6404c-a5f5-4197-9ae7-b3584949a5bf",
      "metadata": {
        "id": "83e6404c-a5f5-4197-9ae7-b3584949a5bf"
      },
      "source": [
        "#### Try it yourself\n",
        "\n",
        "Use the list `classroom_objects` defined above to generate the indicated output using a for loop."
      ]
    },
    {
      "cell_type": "code",
      "execution_count": null,
      "id": "94c2bad3-ec82-4780-bdec-172e2e4d4384",
      "metadata": {
        "id": "94c2bad3-ec82-4780-bdec-172e2e4d4384"
      },
      "outputs": [],
      "source": [
        "## use the range function to print each item in the list of classroom_objects\n",
        "\n"
      ]
    },
    {
      "cell_type": "markdown",
      "id": "5616b54d-4aa6-4a4f-b1fe-ba4a183bb88a",
      "metadata": {
        "tags": [],
        "id": "5616b54d-4aa6-4a4f-b1fe-ba4a183bb88a"
      },
      "source": [
        "## While Loops\n",
        "\n",
        "A `while` loop in Python repeatedly executes a block of code as long as a specified condition is `True`. It's useful when you don't know in advance how many iterations are needed. The basic form of a while loop is\n",
        "\n",
        "```\n",
        "while condition:\n",
        "    # Code block to execute repeatedly\n",
        "```\n",
        "\n",
        "* `condition`: The loop continues as long as the condition evaluates to `True`.\n",
        "* Indentation: The code inside the loop must be indented.\n",
        "\n",
        "Note that it's important to have an end condition that will actually be met, otherwise your code will run forever. It's good practice to have code in your while loop that will limit the number of iterations to prevent an infinite loop.\n",
        "\n",
        "A common way to do this is to have a counter that will exit the loop when some max number of iterations is hit. When increasing (or decreasing) a counter we could use the line\n",
        "\n",
        "```\n",
        "count = count + 1\n",
        "```\n",
        "to add value to the counter after each iteration. Another way to write this is using the `+=` operator\n",
        "\n",
        "`count += 1`\n",
        "\n",
        "We also have the equivalent for subtraction using `-=`\n"
      ]
    },
    {
      "cell_type": "code",
      "execution_count": null,
      "id": "c8365125-9f6f-4b19-b960-fcda34b0e8d1",
      "metadata": {
        "id": "c8365125-9f6f-4b19-b960-fcda34b0e8d1"
      },
      "outputs": [],
      "source": [
        "count = 0  # starting value for counter used in loop\n",
        "max_count = 10  # max number of iterations permitted for loop\n",
        "\n",
        "reggie = 'talking' # starting condition\n",
        "\n",
        "while reggie == 'talking':\n",
        "\n",
        "    # code to be executed each loop\n",
        "    print('blah')\n",
        "\n",
        "    # increase value of counter\n",
        "    count += 1\n",
        "\n",
        "    # check if end condition has been met\n",
        "    if count > max_count:\n",
        "\n",
        "        # change starting condition\n",
        "        reggie = 'sleeping' # next iteration condition will return False\n",
        "\n",
        "        print('Reggie has been talking too long \\nGoodnight Reggie')\n",
        ""
      ]
    },
    {
      "cell_type": "markdown",
      "id": "9030c6b3-9216-40fa-889d-fd2efbab9a97",
      "metadata": {
        "id": "9030c6b3-9216-40fa-889d-fd2efbab9a97"
      },
      "source": [
        "#### Try it yourself\n",
        "\n",
        "Complete the code below. Use a while loop to print the statement \"Guess number _\" as long as the number of guesses is greater than zero. Note that you'll want to make use of the line\n",
        "\n",
        "`count -= 1`"
      ]
    },
    {
      "cell_type": "code",
      "execution_count": null,
      "id": "7d8e20d7-165e-432b-8cca-c077242b38ee",
      "metadata": {
        "id": "7d8e20d7-165e-432b-8cca-c077242b38ee"
      },
      "outputs": [],
      "source": [
        "num_guesses = 3\n",
        "\n",
        "# while loop\n",
        "\n",
        "    # print('Guess number', num_guesses)\n"
      ]
    },
    {
      "cell_type": "markdown",
      "id": "9e0b8158-557c-45b4-b32a-2d6053d96be9",
      "metadata": {
        "tags": [],
        "id": "9e0b8158-557c-45b4-b32a-2d6053d96be9"
      },
      "source": [
        "## Nested Loops\n",
        "\n",
        "If we have to iterate over a sequence that also contains sequences, we can *nest* multiple for loops. This is the same way we nested conditional statements. Remember that indentation is really important when you are nesting anything."
      ]
    },
    {
      "cell_type": "code",
      "execution_count": null,
      "id": "d64e663d-8b6c-4b1a-9e97-bec829d7a5bf",
      "metadata": {
        "id": "d64e663d-8b6c-4b1a-9e97-bec829d7a5bf"
      },
      "outputs": [],
      "source": [
        "student_groups = [\n",
        "    ['Liam', 'Ava', 'Ethan'],\n",
        "    ['Mia', 'Oliver', 'Sophia'],\n",
        "    ['Noah', 'Emma', 'James']\n",
        "]\n",
        "\n",
        "for i in range(len(student_groups)):\n",
        "\n",
        "    print(20*'-')\n",
        "    print('Group ', i)\n",
        "    print(20*'-')\n",
        "\n",
        "    for name in student_groups[i]:\n",
        "        print(name)"
      ]
    },
    {
      "cell_type": "markdown",
      "id": "b1e228c4-c2b3-4d1e-8534-0f03c9320295",
      "metadata": {
        "id": "b1e228c4-c2b3-4d1e-8534-0f03c9320295"
      },
      "source": [
        "## Break and Continue - Leaving or Skipping code in a loop\n",
        "\n",
        "There may be times where we need to exit a loop after some condition is met. To do this, we use `break`. If a condition is met that has this statement, then the code immediately exits the loop."
      ]
    },
    {
      "cell_type": "code",
      "execution_count": null,
      "id": "925b7319-6514-4010-9a55-d5cacc470f11",
      "metadata": {
        "id": "925b7319-6514-4010-9a55-d5cacc470f11"
      },
      "outputs": [],
      "source": [
        "for i in range(10):\n",
        "\n",
        "    if i == 5:\n",
        "        break\n",
        "    else:\n",
        "        print(i)"
      ]
    },
    {
      "cell_type": "markdown",
      "id": "6198c327-a4eb-44e1-a4f8-f1408e325d47",
      "metadata": {
        "id": "6198c327-a4eb-44e1-a4f8-f1408e325d47"
      },
      "source": [
        "We also have `continue`. This lets us enter the next iteration, but skips any code in the loop that comes after this statement."
      ]
    },
    {
      "cell_type": "code",
      "execution_count": null,
      "id": "adeee12d-7b57-4485-bf4b-edbfbfd53106",
      "metadata": {
        "id": "adeee12d-7b57-4485-bf4b-edbfbfd53106"
      },
      "outputs": [],
      "source": [
        "i = 1\n",
        "\n",
        "while i <= 25:\n",
        "    i = i + 1\n",
        "\n",
        "    if i % 5 != 0:  # for any value that isn't a multiple of 5, skip printing\n",
        "        continue\n",
        "\n",
        "    print(i)"
      ]
    },
    {
      "cell_type": "markdown",
      "id": "f43433c2-02a9-4902-aca8-651bc82e4c91",
      "metadata": {
        "id": "f43433c2-02a9-4902-aca8-651bc82e4c91"
      },
      "source": [
        "## Working with Libraries in Python\n",
        "\n",
        "So far in this course we have only used the basic functionality of Python. We have not yet had the need to import any additional libraries. In simplest terms, a library is a collection of functions.\n",
        "\n",
        "There are two types of libraries. The standard python libraries are the libraries that come with any standard installation of Python. A list of them can be found here at [python.org](https://docs.python.org/3/library/index.html)\n",
        "\n",
        "There are also non-standard libraries. Most of the ones we will use are already installed on your system because they come with the Anaconda distribution.\n",
        "\n",
        "We gain access to these functions using the `import` command. For example, you will see this in action in Coding activity 3 where you will write a \"Guess the Number\" game. You will make use of the `random` library. You will be able to access these functions after we include the line\n",
        "\n",
        "```\n",
        "import random\n",
        "```\n",
        "before running any of our code. This line imports all of the functions from the `random` libary.\n",
        "\n",
        "Sometimes, we may want to only import a single function or a collection of functions from a library, which are organized into \"sub-libraries\". For example, say we wanted to access the factorial function from the `math` library. We'll do this with the line\n",
        "```\n",
        "from math import factorial\n",
        "```\n",
        "and this will import the `factorial()` function (and only that function).\n",
        "\n",
        "For example, later in this course we'll make use of the `pyplot` sub library from the `matplotlib` library to plot data. This can be alot to type before every function we'll use so we can give it a 'nickname' or shorthand as we're coding by doing the following\n",
        "\n",
        "```\n",
        "import matplotlib.pyplot as plt\n",
        "```\n",
        "\n",
        "Why are there so many ways to use libraries? We don't always need all of the stuff that comes with a whole library, and we want to limit the libraries we use so that our code is easier to run by other people or machines. Why add a bunch of stuff you don't need, right?\n",
        "\n",
        "#### Notebook vs Script files\n",
        "When writing a python script, good practice is to import all of your libaries at the top of the file (we'll see this next week). Python notebooks make this a little harder, because you can easily lose where you imported a particular library.\n",
        "\n",
        "> &#128187; **Tech Note**\n",
        "In this notebook, we'll use the bad practice of importing the library in the code cell that we need to use it. When doing your own work, you want to try and avoid this, and include a cell at the top of your notebook that includes all of the libraries you'll be using.\n",
        "\n",
        "We'll demonstrate how the random library works since you'll need that for the coding activity. Once we import the library, we do not need to import it again. This means the import line should only happen in one place in your notebook!"
      ]
    },
    {
      "cell_type": "code",
      "execution_count": null,
      "id": "b60a51a3-9da8-4de6-afb7-743db2091527",
      "metadata": {
        "id": "b60a51a3-9da8-4de6-afb7-743db2091527"
      },
      "outputs": [],
      "source": [
        "import random\n",
        "\n",
        "# chooses a random number in the interval given\n",
        "random.randint(1, 20)"
      ]
    },
    {
      "cell_type": "code",
      "execution_count": null,
      "id": "26e72aa8-c82a-41db-8691-c1edaa831dfb",
      "metadata": {
        "id": "26e72aa8-c82a-41db-8691-c1edaa831dfb"
      },
      "outputs": [],
      "source": [
        "# makes a random choice from a sequence or list\n",
        "random.choice(names)"
      ]
    },
    {
      "cell_type": "code",
      "execution_count": null,
      "id": "cab4a0b4-17f8-4158-8dd2-280595b9f8c6",
      "metadata": {
        "id": "cab4a0b4-17f8-4158-8dd2-280595b9f8c6"
      },
      "outputs": [],
      "source": [
        "# before shuffling\n",
        "print('Before the shuffle')\n",
        "print(names)\n",
        "random.shuffle(names)\n",
        "print('After the shuffle')\n",
        "print(names)"
      ]
    },
    {
      "cell_type": "markdown",
      "id": "ed561b61-2312-4715-9adc-a3ddeb617995",
      "metadata": {
        "id": "ed561b61-2312-4715-9adc-a3ddeb617995"
      },
      "source": [
        "Rerun these cells a few times to see that the output keeps changing. There are other functions in the random library you may find useful. You are encouraged to read about those on your own if and when you may need them."
      ]
    },
    {
      "cell_type": "markdown",
      "id": "2ca2f038-a2b3-444b-9f55-9dbdc9328e06",
      "metadata": {
        "id": "2ca2f038-a2b3-444b-9f55-9dbdc9328e06"
      },
      "source": [
        "#### Try it yourself\n",
        "\n",
        "Use code to generate the indicated output."
      ]
    },
    {
      "cell_type": "code",
      "execution_count": null,
      "id": "d85745fe-ace9-442e-aea7-d4be48342fd0",
      "metadata": {
        "id": "d85745fe-ace9-442e-aea7-d4be48342fd0"
      },
      "outputs": [],
      "source": [
        "## generate a random number between 1 and 10\n",
        "\n"
      ]
    }
  ],
  "metadata": {
    "kernelspec": {
      "display_name": "Python 3 (ipykernel)",
      "language": "python",
      "name": "python3"
    },
    "language_info": {
      "codemirror_mode": {
        "name": "ipython",
        "version": 3
      },
      "file_extension": ".py",
      "mimetype": "text/x-python",
      "name": "python",
      "nbconvert_exporter": "python",
      "pygments_lexer": "ipython3",
      "version": "3.10.13"
    },
    "colab": {
      "provenance": []
    }
  },
  "nbformat": 4,
  "nbformat_minor": 5
}