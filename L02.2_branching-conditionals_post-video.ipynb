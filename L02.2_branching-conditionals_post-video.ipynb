{
  "cells": [
    {
      "cell_type": "markdown",
      "id": "588a8341-9a18-41bf-877b-0b4592a812f8",
      "metadata": {
        "tags": [],
        "id": "588a8341-9a18-41bf-877b-0b4592a812f8"
      },
      "source": [
        "# Lecture 2.2: Branching with Conditional Statements\n",
        "\n",
        "Conditionals provide a way to create branches in your code. Its an important structure that allows your code to make decisions and execute different actions based on conditions."
      ]
    },
    {
      "cell_type": "markdown",
      "id": "460421f6-a34a-4b77-a447-ab0642072898",
      "metadata": {
        "jp-MarkdownHeadingCollapsed": true,
        "tags": [],
        "id": "460421f6-a34a-4b77-a447-ab0642072898"
      },
      "source": [
        "## Conditionals\n",
        "\n",
        "A conditional statement in Python takes the following basic form\n",
        "\n",
        "```\n",
        "if boolean expression:\n",
        "    do something\n",
        "```\n",
        "They key part of a conditional statment is the boolean expression that is being tested. These are defined using certain operators to determine if the boolean expression is true or false. They are listed below.\n",
        "\n",
        "### Comparison Operators\n",
        "* `==` Equality\n",
        "* `!=` Inequality\n",
        "* `>` Greater than\n",
        "* `<` Less than\n",
        "* `>=` Greater than or equal to\n",
        "* `<=` Less than or equal to\n",
        "\n",
        "### Membership Operators\n",
        "* `in` determines if an element is in a collection (like a string, list, dictionary, etc)\n",
        "* `not in` determines if an element is _not_ in a collection (like a string, list, dictionary, etc)\n",
        "\n",
        "You will see examples of their use in the examples below."
      ]
    },
    {
      "cell_type": "markdown",
      "id": "cbdcec60-23bc-4c1a-993e-0675920426a1",
      "metadata": {
        "jp-MarkdownHeadingCollapsed": true,
        "tags": [],
        "id": "cbdcec60-23bc-4c1a-993e-0675920426a1"
      },
      "source": [
        "\n",
        "\n",
        "\n",
        "## `if` statements\n",
        "The if statement is used to run a block of code only if a certain condition is true. They have the following general form\n",
        "\n",
        "```\n",
        "if some condition is true:\n",
        "    do some stuff\n",
        "```\n",
        "\n",
        "Note that the above example is given in something called **psuedocode**.\n",
        "\n",
        "> &#x1F4D7; **Pseudocode** is an informal, high-level description of a computer program's logic and operations. It uses simple, plain language (often resembling programming concepts and structures) to outline the steps required to solve a problem, without focusing on the specific syntax of any particular programming language.\n",
        "\n",
        "### Code blocks and indentation\n",
        "So far, we have only used a few lines of code at a time. When writing more complex programs, code is written in chunks of code that perform certain functions, often referred to as _blocks_ of code. Python identifies a block of code based on indentation. It is also worth noting that a colon must follow the end of the line containing the conditional statement. This tells Python to execute the code indented below that line. This is a common piece of syntax you will forget when writing your code (it certainly is for me 😂).\n",
        "\n",
        "We can see an example of how this works in code below."
      ]
    },
    {
      "cell_type": "code",
      "execution_count": 5,
      "id": "18ede43f-b437-42f1-ad3e-d6f374901d11",
      "metadata": {
        "id": "18ede43f-b437-42f1-ad3e-d6f374901d11"
      },
      "outputs": [],
      "source": [
        "# x = 10\n",
        "\n",
        "# alt condition\n",
        "x = 3\n",
        "\n",
        "if x > 5:\n",
        "    print('x is greater than 5')\n",
        "\n",
        "    print('this is not in the code block')"
      ]
    },
    {
      "cell_type": "markdown",
      "id": "4c483d82-fae1-4ccc-8506-e67957d37f33",
      "metadata": {
        "id": "4c483d82-fae1-4ccc-8506-e67957d37f33"
      },
      "source": [
        "We can see that the print statement is indented on the next line after the if + boolean expression. This tells Python that this print statement should be executed if the condition is met - in other words, the print statement is part of that particular code block. If it is indented in this way, you will receive an error."
      ]
    },
    {
      "cell_type": "code",
      "execution_count": 7,
      "id": "8f4494a2-a481-4291-a231-119ddba028be",
      "metadata": {
        "id": "8f4494a2-a481-4291-a231-119ddba028be",
        "outputId": "f4923f74-1d5a-4b1c-957a-a6054ea09c09",
        "colab": {
          "base_uri": "https://localhost:8080/"
        }
      },
      "outputs": [
        {
          "output_type": "stream",
          "name": "stdout",
          "text": [
            "x is greater than 5\n"
          ]
        }
      ],
      "source": [
        "x = 10\n",
        "if x > 5:\n",
        "  print(\"x is greater than 5\")"
      ]
    },
    {
      "cell_type": "markdown",
      "id": "e1466b1b-d45f-4109-bdad-3ec247f497eb",
      "metadata": {
        "jp-MarkdownHeadingCollapsed": true,
        "tags": [],
        "id": "e1466b1b-d45f-4109-bdad-3ec247f497eb"
      },
      "source": [
        "## `if`-`else` statements\n",
        "\n",
        "We can add a decision by using `else`. The else block runs when the if condition evaluates to False. An if-else statement has the following general form\n",
        "\n",
        "```\n",
        "if some condition is true:\n",
        "    do some stuff\n",
        "else:\n",
        "    do some other stuff\n",
        "```\n",
        "\n",
        "We can see an example of how this works in the code below."
      ]
    },
    {
      "cell_type": "code",
      "execution_count": 8,
      "id": "4ac77c02-14b3-4d51-83c9-6fc877db80f2",
      "metadata": {
        "id": "4ac77c02-14b3-4d51-83c9-6fc877db80f2",
        "outputId": "a997d36c-4d03-4ce4-cb22-4ee40add7f87",
        "colab": {
          "base_uri": "https://localhost:8080/"
        }
      },
      "outputs": [
        {
          "output_type": "stream",
          "name": "stdout",
          "text": [
            "x is not greater than 5\n"
          ]
        }
      ],
      "source": [
        "x = 3\n",
        "\n",
        "if x > 5:\n",
        "    print('x is greater than 5')\n",
        "else:\n",
        "    print('x is not greater than 5')\n"
      ]
    },
    {
      "cell_type": "markdown",
      "id": "fe13ac17-2a32-4330-b917-57f326896d77",
      "metadata": {
        "jp-MarkdownHeadingCollapsed": true,
        "tags": [],
        "id": "fe13ac17-2a32-4330-b917-57f326896d77"
      },
      "source": [
        "## `if`-`elif`-`else` statments.\n",
        "\n",
        "We can also test multiple conditions by using `elif`. Think of this as a type of shortand for saying `else if`.\n",
        "\n",
        "```\n",
        "if some condition is true:\n",
        "    do some stuff\n",
        "\n",
        "elif this condition is true:\n",
        "    do different stuff\n",
        ".\n",
        ".\n",
        ".\n",
        "else:\n",
        "    do some other stuff\n",
        "```"
      ]
    },
    {
      "cell_type": "code",
      "execution_count": 12,
      "id": "ab0349d0-d42c-4bb9-921d-6b551ac07914",
      "metadata": {
        "id": "ab0349d0-d42c-4bb9-921d-6b551ac07914",
        "outputId": "0a386ce9-5c32-4b6d-9f3b-27e0925b2404",
        "colab": {
          "base_uri": "https://localhost:8080/"
        }
      },
      "outputs": [
        {
          "output_type": "stream",
          "name": "stdout",
          "text": [
            "x is greater than 5 but not 10\n"
          ]
        }
      ],
      "source": [
        "# x = 10\n",
        "\n",
        "# # alt condition\n",
        "# x = 3\n",
        "\n",
        "# alt condition\n",
        "x = 15\n",
        "\n",
        "if x < 5:\n",
        "    print('x is less than 5')\n",
        "elif x == 10:\n",
        "    print('x is equal to 10')\n",
        "else:\n",
        "    print('x is greater than 5 but not 10')\n"
      ]
    },
    {
      "cell_type": "markdown",
      "id": "cbd8773e-c1fb-4cd0-b707-e2a58800f2c2",
      "metadata": {
        "jp-MarkdownHeadingCollapsed": true,
        "id": "cbd8773e-c1fb-4cd0-b707-e2a58800f2c2"
      },
      "source": [
        "## Nested `if` statements\n",
        "\n",
        "We can also _nest_ if statements. Meaning we can place conditional statements inside other conditional statements. This gives you the ability to make more complicated decisions in your code."
      ]
    },
    {
      "cell_type": "code",
      "execution_count": 15,
      "id": "b91f64ab-99a9-49ef-af0d-5b0da535399a",
      "metadata": {
        "id": "b91f64ab-99a9-49ef-af0d-5b0da535399a",
        "outputId": "e0c7c4be-6976-4172-80ab-d8f0aca59126",
        "colab": {
          "base_uri": "https://localhost:8080/"
        }
      },
      "outputs": [
        {
          "output_type": "stream",
          "name": "stdout",
          "text": [
            "You are an adult.\n",
            "Your voting eligibility depends on your country.\n"
          ]
        }
      ],
      "source": [
        "# age = 20\n",
        "# country = 'USA'\n",
        "\n",
        "# # alt conditions\n",
        "# age = 17\n",
        "# country = 'Canada'\n",
        "\n",
        "# alt conditions\n",
        "age = 21\n",
        "country = 'Canada'\n",
        "\n",
        "# first conditional statement\n",
        "\n",
        "if age >= 18:\n",
        "    print('You are an adult.')\n",
        "\n",
        "    # nested conditional statement\n",
        "\n",
        "    if country == 'USA':\n",
        "        print('You are eligible to vote in the USA.')\n",
        "    else:\n",
        "        print('Your voting eligibility depends on your country.')\n",
        "else:\n",
        "    print('You are a minor.')\n"
      ]
    },
    {
      "cell_type": "markdown",
      "id": "d341fe6e-8952-4ff6-a885-38a7b1e61182",
      "metadata": {
        "jp-MarkdownHeadingCollapsed": true,
        "tags": [],
        "id": "d341fe6e-8952-4ff6-a885-38a7b1e61182"
      },
      "source": [
        "## Logical Operators\n",
        "\n",
        "Logical operators help combine multiple conditions in a single boolean expression.\n",
        "\n",
        "* `and` means \"$x$ and $y$\"\n",
        "* `or` means \"$x$ or $y$\"\n",
        "* `not` means \"not $x$\""
      ]
    },
    {
      "cell_type": "markdown",
      "id": "51bb617b-0592-47e8-8272-6d911c816e28",
      "metadata": {
        "id": "51bb617b-0592-47e8-8272-6d911c816e28"
      },
      "source": [
        "### Using `and`\n",
        "\n",
        "This is the conjunction of two statements. If both conditions are met the statement will return True. If either condition is False, the entire statement is False."
      ]
    },
    {
      "cell_type": "code",
      "execution_count": 17,
      "id": "99aac7c8-6fe3-4052-a0ad-381187f38741",
      "metadata": {
        "id": "99aac7c8-6fe3-4052-a0ad-381187f38741"
      },
      "outputs": [],
      "source": [
        "# x = 15\n",
        "\n",
        "# alt condition\n",
        "x = 30\n",
        "\n",
        "if x > 10 and x < 20:\n",
        "    print('x is between 10 and 20')\n"
      ]
    },
    {
      "cell_type": "markdown",
      "id": "bad37478-c345-4017-81a6-b6a80d8b576c",
      "metadata": {
        "id": "bad37478-c345-4017-81a6-b6a80d8b576c"
      },
      "source": [
        "### Using `or`\n",
        "\n",
        "This is the disjunction of two boolean expressions. Recall that in mathematics and programming `or` is not exclusive. If either condition is met, the statement will return True. Note that Python stops evaluating conditions as soon as it finds the first True. This is called short-circuit evaluation. Be mindful of this when giving multiple conditions to test. Order will matter."
      ]
    },
    {
      "cell_type": "code",
      "execution_count": 20,
      "id": "99915af2-3ee9-49cd-bf69-cf8c29aacf86",
      "metadata": {
        "id": "99915af2-3ee9-49cd-bf69-cf8c29aacf86",
        "outputId": "0e6d8919-3911-4021-fb1c-b91dc98a4c24",
        "colab": {
          "base_uri": "https://localhost:8080/"
        }
      },
      "outputs": [
        {
          "output_type": "stream",
          "name": "stdout",
          "text": [
            "x is either less than 10 or greater than 20\n"
          ]
        }
      ],
      "source": [
        "# x = 5\n",
        "\n",
        "# alt condition\n",
        "# x = 10\n",
        "\n",
        "# alt condition\n",
        "x = 30\n",
        "\n",
        "if x < 10 or x > 20:\n",
        "    print('x is either less than 10 or greater than 20')\n"
      ]
    },
    {
      "cell_type": "markdown",
      "id": "b410ec65-e50e-4b8e-ab13-3ff06e68fe35",
      "metadata": {
        "id": "b410ec65-e50e-4b8e-ab13-3ff06e68fe35"
      },
      "source": [
        "### Using `not`\n",
        "\n",
        "This is the negation of a boolean expression. It reverses the outcome of a boolean expression. If the value is True, it will return False, if its False, it will return True."
      ]
    },
    {
      "cell_type": "code",
      "execution_count": 22,
      "id": "b94b8241-05f1-485a-939d-324123a25b7e",
      "metadata": {
        "id": "b94b8241-05f1-485a-939d-324123a25b7e"
      },
      "outputs": [],
      "source": [
        "# x = 6\n",
        "\n",
        "# alt condition\n",
        "x = 5\n",
        "\n",
        "if not x == 5:\n",
        "    print('x is not equal to 5')"
      ]
    },
    {
      "cell_type": "markdown",
      "id": "2e8080a1-c6b7-4d7d-adde-d9e2cd3a20ed",
      "metadata": {
        "jp-MarkdownHeadingCollapsed": true,
        "id": "2e8080a1-c6b7-4d7d-adde-d9e2cd3a20ed"
      },
      "source": [
        "## Sets\n",
        "\n",
        "This section covers some basic operations with sets to assist you in your MyOpenMath assignment. We will not formally cover this in class so you are welcome to go through this section on your own."
      ]
    },
    {
      "cell_type": "markdown",
      "id": "c40fcc00-ebc2-4cd5-97a2-e8f826223260",
      "metadata": {
        "id": "c40fcc00-ebc2-4cd5-97a2-e8f826223260"
      },
      "source": [
        "### Union\n",
        "We can use either `|` (called a _pipe_) or `union()`). Using either combines elements from both sets, removing duplicates."
      ]
    },
    {
      "cell_type": "code",
      "execution_count": null,
      "id": "95cf308b-4db1-4120-881b-481e319cb6fc",
      "metadata": {
        "id": "95cf308b-4db1-4120-881b-481e319cb6fc"
      },
      "outputs": [],
      "source": [
        "set1 = {1, 2, 3}\n",
        "set2 = {3, 4, 5}\n",
        "\n",
        "print(\"Union:\", set1 | set2)\n",
        "print(\"Union using method:\", set1.union(set2))\n"
      ]
    },
    {
      "cell_type": "markdown",
      "id": "8380cbde-9804-4071-bbbf-351f065f957f",
      "metadata": {
        "id": "8380cbde-9804-4071-bbbf-351f065f957f"
      },
      "source": [
        "### Intersection\n",
        "We can use either `&` or `intersection()`. Using either returns common elements between sets."
      ]
    },
    {
      "cell_type": "code",
      "execution_count": null,
      "id": "a6863315-ae98-4797-b0ec-8c2e06e7f877",
      "metadata": {
        "id": "a6863315-ae98-4797-b0ec-8c2e06e7f877"
      },
      "outputs": [],
      "source": [
        "print(\"Intersection:\", set1 & set2)\n",
        "print(\"Intersection using method:\", set1.intersection(set2))"
      ]
    },
    {
      "cell_type": "markdown",
      "id": "05fa87b2-5ffc-4b17-9605-46e9e5c2b464",
      "metadata": {
        "id": "05fa87b2-5ffc-4b17-9605-46e9e5c2b464"
      },
      "source": [
        "### Complement\n",
        "Returns elements in set 1 but not in set 2.\n"
      ]
    },
    {
      "cell_type": "code",
      "execution_count": null,
      "id": "1f292269-81ce-44e3-9f8a-3afdbedb4805",
      "metadata": {
        "id": "1f292269-81ce-44e3-9f8a-3afdbedb4805"
      },
      "outputs": [],
      "source": [
        "print(\"Difference:\", set1 - set2)\n",
        "print(\"Difference using method:\", set1.difference(set2))"
      ]
    },
    {
      "cell_type": "code",
      "source": [],
      "metadata": {
        "id": "lpoeJXx9kU_d"
      },
      "id": "lpoeJXx9kU_d",
      "execution_count": null,
      "outputs": []
    }
  ],
  "metadata": {
    "kernelspec": {
      "display_name": "Python 3 (ipykernel)",
      "language": "python",
      "name": "python3"
    },
    "language_info": {
      "codemirror_mode": {
        "name": "ipython",
        "version": 3
      },
      "file_extension": ".py",
      "mimetype": "text/x-python",
      "name": "python",
      "nbconvert_exporter": "python",
      "pygments_lexer": "ipython3",
      "version": "3.10.13"
    },
    "colab": {
      "provenance": []
    }
  },
  "nbformat": 4,
  "nbformat_minor": 5
}